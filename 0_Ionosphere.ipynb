{
 "cells": [
  {
   "cell_type": "code",
   "execution_count": null,
   "id": "a4b97fdc",
   "metadata": {},
   "outputs": [],
   "source": [
    "import json\n",
    "from isce2_topsapp.iono_proc import iono_processing\n",
    "from isce2_topsapp.localize_mask import download_water_mask\n",
    "import matplotlib.pyplot as plt\n",
    "import rasterio\n",
    "import numpy as np\n",
    "import logging\n",
    "logging.getLogger().setLevel(logging.WARNING)\n"
   ]
  },
  {
   "cell_type": "code",
   "execution_count": null,
   "id": "658ed5ae",
   "metadata": {},
   "outputs": [],
   "source": [
    "loc_data = json.load(open('loc_data.json'))\n",
    "loc_data"
   ]
  },
  {
   "cell_type": "code",
   "execution_count": null,
   "id": "c4b88946",
   "metadata": {},
   "outputs": [],
   "source": [
    "extent = loc_data['extent_buffered']\n",
    "wm_path_data = download_water_mask(extent)\n",
    "wm_path_data"
   ]
  },
  {
   "cell_type": "code",
   "execution_count": null,
   "id": "0c6de21b",
   "metadata": {},
   "outputs": [],
   "source": [
    "!ls *.vrt"
   ]
  },
  {
   "cell_type": "code",
   "execution_count": null,
   "id": "d4c260f0",
   "metadata": {},
   "outputs": [],
   "source": [
    "WM_PATH = wm_path_data['water_mask']\n",
    "WM_PATH"
   ]
  },
  {
   "cell_type": "code",
   "execution_count": null,
   "id": "5ce4bd15",
   "metadata": {},
   "outputs": [],
   "source": [
    "with rasterio.open(WM_PATH + '.vrt') as ds:\n",
    "    p = ds.profile\n",
    "p"
   ]
  },
  {
   "cell_type": "code",
   "execution_count": null,
   "id": "9d6984ac",
   "metadata": {},
   "outputs": [],
   "source": [
    "iono_attr = iono_processing(\n",
    "            mask_filename=WM_PATH,\n",
    "            correct_burst_ramps=True,\n",
    "        )"
   ]
  }
 ],
 "metadata": {
  "kernelspec": {
   "display_name": "topsapp_env",
   "language": "python",
   "name": "topsapp_env"
  },
  "language_info": {
   "codemirror_mode": {
    "name": "ipython",
    "version": 3
   },
   "file_extension": ".py",
   "mimetype": "text/x-python",
   "name": "python",
   "nbconvert_exporter": "python",
   "pygments_lexer": "ipython3",
   "version": "3.11.6"
  }
 },
 "nbformat": 4,
 "nbformat_minor": 5
}
