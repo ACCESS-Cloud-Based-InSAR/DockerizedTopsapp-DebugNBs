{
 "cells": [
  {
   "cell_type": "code",
   "execution_count": null,
   "id": "e57ca803",
   "metadata": {},
   "outputs": [],
   "source": [
    "import json\n",
    "from isce2_topsapp.packaging import package_gunw_product\n",
    "from shapely.geometry import shape\n",
    "from pathlib import Path\n",
    "from isce2_topsapp.topsapp_params import topsappParams\n",
    "from shapely.geometry import shape\n",
    "from isce2_topsapp.solid_earth_tides import update_gunw_with_solid_earth_tide\n",
    "from isce2_topsapp.__main__ import update_gunw_internal_version_attribute\n",
    "from isce2_topsapp.delivery_prep import prepare_for_delivery"
   ]
  },
  {
   "cell_type": "code",
   "execution_count": null,
   "id": "e9de4396",
   "metadata": {},
   "outputs": [],
   "source": [
    "loc_data = json.load(open('loc_data.json'))"
   ]
  },
  {
   "cell_type": "code",
   "execution_count": null,
   "id": "f44d3c29",
   "metadata": {},
   "outputs": [],
   "source": [
    "loc_data"
   ]
  },
  {
   "cell_type": "code",
   "execution_count": null,
   "id": "8ffafe91",
   "metadata": {},
   "outputs": [],
   "source": [
    "ref_properties = loc_data[\"reference_properties\"]\n",
    "sec_properties = loc_data[\"secondary_properties\"]\n",
    "extent = loc_data[\"extent\"]\n",
    "product_geometry_wkt = shape(loc_data['gunw_geo']).wkt\n",
    "loc_data['gunw_geo'] = shape(loc_data['gunw_geo'])\n",
    "topsapp_params_obj = topsappParams(**loc_data['tops_app_params'])"
   ]
  },
  {
   "cell_type": "code",
   "execution_count": null,
   "id": "30844a67",
   "metadata": {},
   "outputs": [],
   "source": [
    "with open('additional_2d_layers.txt') as f:\n",
    "    additional_2d_layers = f.readlines()\n",
    "additional_2d_layers_for_packaging = [l.strip() for l in additional_2d_layers]\n",
    "additional_2d_layers_for_packaging"
   ]
  },
  {
   "cell_type": "code",
   "execution_count": null,
   "id": "2df1d2ac",
   "metadata": {},
   "outputs": [],
   "source": [
    "additional_attributes_for_packaging = json.load(open('additional_attributes_for_packaging.json'))\n",
    "additional_attributes_for_packaging"
   ]
  },
  {
   "cell_type": "code",
   "execution_count": null,
   "id": "8ee820d5",
   "metadata": {},
   "outputs": [],
   "source": [
    "ref_properties = loc_data[\"reference_properties\"]\n",
    "sec_properties = loc_data[\"secondary_properties\"]\n",
    "extent = loc_data[\"extent\"]\n",
    "product_geometry_wkt = shape(loc_data['gunw_geo']).wkt\n",
    "cmd_line_str = loc_data['cmd_line_str']"
   ]
  },
  {
   "cell_type": "code",
   "execution_count": null,
   "id": "9b879470",
   "metadata": {},
   "outputs": [],
   "source": [
    "nc_path = package_gunw_product(\n",
    "    isce_data_directory=Path.cwd(),\n",
    "    reference_properties=ref_properties,\n",
    "    secondary_properties=sec_properties,\n",
    "    extent=extent,\n",
    "    additional_2d_layers=additional_2d_layers_for_packaging,\n",
    "    additional_attributes=additional_attributes_for_packaging,\n",
    "    standard_product=topsapp_params_obj.is_standard_gunw_product(),\n",
    "    cmd_line_str=cmd_line_str,\n",
    "    product_geometry_wkt=product_geometry_wkt,\n",
    "    topaspp_params=topsapp_params_obj.model_dump()\n",
    ")"
   ]
  },
  {
   "cell_type": "code",
   "execution_count": null,
   "id": "233dea55-2621-4e83-9d06-9a5587868e8d",
   "metadata": {},
   "outputs": [],
   "source": [
    "nc_path = update_gunw_with_solid_earth_tide(nc_path, \"reference\", loc_data['reference_orbits'])\n",
    "nc_path = update_gunw_with_solid_earth_tide(nc_path, \"secondary\", loc_data['secondary_orbits'])"
   ]
  },
  {
   "cell_type": "code",
   "execution_count": null,
   "id": "3e545394-3e23-4714-bb4a-ac7c55a962e3",
   "metadata": {},
   "outputs": [],
   "source": [
    "update_gunw_internal_version_attribute(nc_path, new_version=\"1c\")"
   ]
  },
  {
   "cell_type": "code",
   "execution_count": null,
   "id": "ac99aa94",
   "metadata": {},
   "outputs": [],
   "source": [
    "final_prod_directory = prepare_for_delivery(nc_path, loc_data)"
   ]
  },
  {
   "cell_type": "code",
   "execution_count": null,
   "id": "90fcbeb7",
   "metadata": {},
   "outputs": [],
   "source": []
  }
 ],
 "metadata": {
  "kernelspec": {
   "display_name": "topsapp_env",
   "language": "python",
   "name": "topsapp_env"
  },
  "language_info": {
   "codemirror_mode": {
    "name": "ipython",
    "version": 3
   },
   "file_extension": ".py",
   "mimetype": "text/x-python",
   "name": "python",
   "nbconvert_exporter": "python",
   "pygments_lexer": "ipython3",
   "version": "3.9.18"
  }
 },
 "nbformat": 4,
 "nbformat_minor": 5
}
